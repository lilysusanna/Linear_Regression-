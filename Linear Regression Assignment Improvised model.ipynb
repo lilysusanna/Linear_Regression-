{
 "cells": [
  {
   "cell_type": "markdown",
   "id": "128332ba",
   "metadata": {},
   "source": [
    "# Linear Regression\n",
    "## Importing Libraries "
   ]
  },
  {
   "cell_type": "code",
   "execution_count": 1,
   "id": "b161bb7c",
   "metadata": {
    "ExecuteTime": {
     "end_time": "2022-07-09T15:09:32.678965Z",
     "start_time": "2022-07-09T15:09:29.846604Z"
    }
   },
   "outputs": [],
   "source": [
    "#importing libraries \n",
    "import pandas as pd\n",
    "import numpy as np\n",
    "import matplotlib.pyplot as plt\n",
    "import seaborn as sns\n",
    "import statsmodels.api as sm\n",
    "from sklearn.linear_model import LinearRegression\n",
    "from sklearn.metrics import mean_squared_error\n",
    "from sklearn.model_selection import train_test_split\n",
    "import warnings\n",
    "warnings.filterwarnings(\"ignore\")"
   ]
  },
  {
   "cell_type": "code",
   "execution_count": 2,
   "id": "3d5150e8",
   "metadata": {
    "ExecuteTime": {
     "end_time": "2022-07-09T15:09:32.710592Z",
     "start_time": "2022-07-09T15:09:32.678965Z"
    },
    "scrolled": true
   },
   "outputs": [
    {
     "data": {
      "text/html": [
       "<div>\n",
       "<style scoped>\n",
       "    .dataframe tbody tr th:only-of-type {\n",
       "        vertical-align: middle;\n",
       "    }\n",
       "\n",
       "    .dataframe tbody tr th {\n",
       "        vertical-align: top;\n",
       "    }\n",
       "\n",
       "    .dataframe thead th {\n",
       "        text-align: right;\n",
       "    }\n",
       "</style>\n",
       "<table border=\"1\" class=\"dataframe\">\n",
       "  <thead>\n",
       "    <tr style=\"text-align: right;\">\n",
       "      <th></th>\n",
       "      <th>Delivery Time</th>\n",
       "      <th>Sorting Time</th>\n",
       "    </tr>\n",
       "  </thead>\n",
       "  <tbody>\n",
       "    <tr>\n",
       "      <th>0</th>\n",
       "      <td>21.00</td>\n",
       "      <td>10</td>\n",
       "    </tr>\n",
       "    <tr>\n",
       "      <th>1</th>\n",
       "      <td>13.50</td>\n",
       "      <td>4</td>\n",
       "    </tr>\n",
       "    <tr>\n",
       "      <th>2</th>\n",
       "      <td>19.75</td>\n",
       "      <td>6</td>\n",
       "    </tr>\n",
       "    <tr>\n",
       "      <th>3</th>\n",
       "      <td>24.00</td>\n",
       "      <td>9</td>\n",
       "    </tr>\n",
       "    <tr>\n",
       "      <th>4</th>\n",
       "      <td>29.00</td>\n",
       "      <td>10</td>\n",
       "    </tr>\n",
       "  </tbody>\n",
       "</table>\n",
       "</div>"
      ],
      "text/plain": [
       "   Delivery Time  Sorting Time\n",
       "0          21.00            10\n",
       "1          13.50             4\n",
       "2          19.75             6\n",
       "3          24.00             9\n",
       "4          29.00            10"
      ]
     },
     "execution_count": 2,
     "metadata": {},
     "output_type": "execute_result"
    }
   ],
   "source": [
    "#reading files\n",
    "dt=pd.read_csv('delivery_time.csv')\n",
    "dt.head()"
   ]
  },
  {
   "cell_type": "markdown",
   "id": "381b9b1f",
   "metadata": {},
   "source": [
    "## Plotting graph to understand data"
   ]
  },
  {
   "cell_type": "code",
   "execution_count": 3,
   "id": "e393c254",
   "metadata": {
    "ExecuteTime": {
     "end_time": "2022-07-09T15:09:32.928832Z",
     "start_time": "2022-07-09T15:09:32.711347Z"
    }
   },
   "outputs": [
    {
     "data": {
      "text/plain": [
       "(array([[0., 0., 2., 3., 4., 4., 4., 2., 1., 1.],\n",
       "        [7., 8., 6., 0., 0., 0., 0., 0., 0., 0.]]),\n",
       " array([ 2. ,  4.7,  7.4, 10.1, 12.8, 15.5, 18.2, 20.9, 23.6, 26.3, 29. ]),\n",
       " <a list of 2 BarContainer objects>)"
      ]
     },
     "execution_count": 3,
     "metadata": {},
     "output_type": "execute_result"
    },
    {
     "data": {
      "image/png": "[encoded data removed]",
      "text/plain": [
       "<Figure size 432x288 with 1 Axes>"
      ]
     },
     "metadata": {
      "needs_background": "light"
     },
     "output_type": "display_data"
    }
   ],
   "source": [
    "plt.hist(dt)"
   ]
  },
  {
   "cell_type": "markdown",
   "id": "c16b4fc2",
   "metadata": {},
   "source": [
    "## Renaming the columns "
   ]
  },
  {
   "cell_type": "code",
   "execution_count": 4,
   "id": "0a269b6f",
   "metadata": {
    "ExecuteTime": {
     "end_time": "2022-07-09T15:09:32.944458Z",
     "start_time": "2022-07-09T15:09:32.931695Z"
    }
   },
   "outputs": [],
   "source": [
    "#renaming the columns \n",
    "dt=dt.rename(columns={'Delivery Time':'DeliveryT','Sorting Time':'SortingT'})"
   ]
  },
  {
   "cell_type": "code",
   "execution_count": 5,
   "id": "9ee6e7d7",
   "metadata": {
    "ExecuteTime": {
     "end_time": "2022-07-09T15:09:32.960202Z",
     "start_time": "2022-07-09T15:09:32.947257Z"
    },
    "scrolled": true
   },
   "outputs": [
    {
     "data": {
      "text/html": [
       "<div>\n",
       "<style scoped>\n",
       "    .dataframe tbody tr th:only-of-type {\n",
       "        vertical-align: middle;\n",
       "    }\n",
       "\n",
       "    .dataframe tbody tr th {\n",
       "        vertical-align: top;\n",
       "    }\n",
       "\n",
       "    .dataframe thead th {\n",
       "        text-align: right;\n",
       "    }\n",
       "</style>\n",
       "<table border=\"1\" class=\"dataframe\">\n",
       "  <thead>\n",
       "    <tr style=\"text-align: right;\">\n",
       "      <th></th>\n",
       "      <th>DeliveryT</th>\n",
       "      <th>SortingT</th>\n",
       "    </tr>\n",
       "  </thead>\n",
       "  <tbody>\n",
       "    <tr>\n",
       "      <th>0</th>\n",
       "      <td>21.00</td>\n",
       "      <td>10</td>\n",
       "    </tr>\n",
       "    <tr>\n",
       "      <th>1</th>\n",
       "      <td>13.50</td>\n",
       "      <td>4</td>\n",
       "    </tr>\n",
       "    <tr>\n",
       "      <th>2</th>\n",
       "      <td>19.75</td>\n",
       "      <td>6</td>\n",
       "    </tr>\n",
       "    <tr>\n",
       "      <th>3</th>\n",
       "      <td>24.00</td>\n",
       "      <td>9</td>\n",
       "    </tr>\n",
       "    <tr>\n",
       "      <th>4</th>\n",
       "      <td>29.00</td>\n",
       "      <td>10</td>\n",
       "    </tr>\n",
       "  </tbody>\n",
       "</table>\n",
       "</div>"
      ],
      "text/plain": [
       "   DeliveryT  SortingT\n",
       "0      21.00        10\n",
       "1      13.50         4\n",
       "2      19.75         6\n",
       "3      24.00         9\n",
       "4      29.00        10"
      ]
     },
     "execution_count": 5,
     "metadata": {},
     "output_type": "execute_result"
    }
   ],
   "source": [
    "dt.head()"
   ]
  },
  {
   "cell_type": "markdown",
   "id": "141e9323",
   "metadata": {},
   "source": [
    "## Checking the Correlation"
   ]
  },
  {
   "cell_type": "code",
   "execution_count": 6,
   "id": "08b85b3e",
   "metadata": {
    "ExecuteTime": {
     "end_time": "2022-07-09T15:09:32.975474Z",
     "start_time": "2022-07-09T15:09:32.961399Z"
    },
    "scrolled": true
   },
   "outputs": [
    {
     "data": {
      "text/html": [
       "<div>\n",
       "<style scoped>\n",
       "    .dataframe tbody tr th:only-of-type {\n",
       "        vertical-align: middle;\n",
       "    }\n",
       "\n",
       "    .dataframe tbody tr th {\n",
       "        vertical-align: top;\n",
       "    }\n",
       "\n",
       "    .dataframe thead th {\n",
       "        text-align: right;\n",
       "    }\n",
       "</style>\n",
       "<table border=\"1\" class=\"dataframe\">\n",
       "  <thead>\n",
       "    <tr style=\"text-align: right;\">\n",
       "      <th></th>\n",
       "      <th>DeliveryT</th>\n",
       "      <th>SortingT</th>\n",
       "    </tr>\n",
       "  </thead>\n",
       "  <tbody>\n",
       "    <tr>\n",
       "      <th>DeliveryT</th>\n",
       "      <td>1.000000</td>\n",
       "      <td>0.825997</td>\n",
       "    </tr>\n",
       "    <tr>\n",
       "      <th>SortingT</th>\n",
       "      <td>0.825997</td>\n",
       "      <td>1.000000</td>\n",
       "    </tr>\n",
       "  </tbody>\n",
       "</table>\n",
       "</div>"
      ],
      "text/plain": [
       "           DeliveryT  SortingT\n",
       "DeliveryT   1.000000  0.825997\n",
       "SortingT    0.825997  1.000000"
      ]
     },
     "execution_count": 6,
     "metadata": {},
     "output_type": "execute_result"
    }
   ],
   "source": [
    "#checking the correlation\n",
    "dt.corr()"
   ]
  },
  {
   "cell_type": "code",
   "execution_count": 7,
   "id": "fddfdaee",
   "metadata": {
    "ExecuteTime": {
     "end_time": "2022-07-09T15:09:33.006445Z",
     "start_time": "2022-07-09T15:09:32.978571Z"
    },
    "scrolled": true
   },
   "outputs": [
    {
     "data": {
      "text/html": [
       "<div>\n",
       "<style scoped>\n",
       "    .dataframe tbody tr th:only-of-type {\n",
       "        vertical-align: middle;\n",
       "    }\n",
       "\n",
       "    .dataframe tbody tr th {\n",
       "        vertical-align: top;\n",
       "    }\n",
       "\n",
       "    .dataframe thead th {\n",
       "        text-align: right;\n",
       "    }\n",
       "</style>\n",
       "<table border=\"1\" class=\"dataframe\">\n",
       "  <thead>\n",
       "    <tr style=\"text-align: right;\">\n",
       "      <th></th>\n",
       "      <th>DeliveryT</th>\n",
       "      <th>SortingT</th>\n",
       "    </tr>\n",
       "  </thead>\n",
       "  <tbody>\n",
       "    <tr>\n",
       "      <th>count</th>\n",
       "      <td>21.000000</td>\n",
       "      <td>21.000000</td>\n",
       "    </tr>\n",
       "    <tr>\n",
       "      <th>mean</th>\n",
       "      <td>16.790952</td>\n",
       "      <td>6.190476</td>\n",
       "    </tr>\n",
       "    <tr>\n",
       "      <th>std</th>\n",
       "      <td>5.074901</td>\n",
       "      <td>2.542028</td>\n",
       "    </tr>\n",
       "    <tr>\n",
       "      <th>min</th>\n",
       "      <td>8.000000</td>\n",
       "      <td>2.000000</td>\n",
       "    </tr>\n",
       "    <tr>\n",
       "      <th>25%</th>\n",
       "      <td>13.500000</td>\n",
       "      <td>4.000000</td>\n",
       "    </tr>\n",
       "    <tr>\n",
       "      <th>50%</th>\n",
       "      <td>17.830000</td>\n",
       "      <td>6.000000</td>\n",
       "    </tr>\n",
       "    <tr>\n",
       "      <th>75%</th>\n",
       "      <td>19.750000</td>\n",
       "      <td>8.000000</td>\n",
       "    </tr>\n",
       "    <tr>\n",
       "      <th>max</th>\n",
       "      <td>29.000000</td>\n",
       "      <td>10.000000</td>\n",
       "    </tr>\n",
       "  </tbody>\n",
       "</table>\n",
       "</div>"
      ],
      "text/plain": [
       "       DeliveryT   SortingT\n",
       "count  21.000000  21.000000\n",
       "mean   16.790952   6.190476\n",
       "std     5.074901   2.542028\n",
       "min     8.000000   2.000000\n",
       "25%    13.500000   4.000000\n",
       "50%    17.830000   6.000000\n",
       "75%    19.750000   8.000000\n",
       "max    29.000000  10.000000"
      ]
     },
     "execution_count": 7,
     "metadata": {},
     "output_type": "execute_result"
    }
   ],
   "source": [
    "dt.describe()"
   ]
  },
  {
   "cell_type": "code",
   "execution_count": 8,
   "id": "7649637b",
   "metadata": {
    "ExecuteTime": {
     "end_time": "2022-07-09T15:09:33.022406Z",
     "start_time": "2022-07-09T15:09:33.008591Z"
    }
   },
   "outputs": [
    {
     "data": {
      "text/plain": [
       "(21, 1)"
      ]
     },
     "execution_count": 8,
     "metadata": {},
     "output_type": "execute_result"
    }
   ],
   "source": [
    "X=dt[['SortingT']]\n",
    "Y=dt['DeliveryT']\n",
    "X.shape"
   ]
  },
  {
   "cell_type": "markdown",
   "id": "0096d2ec",
   "metadata": {},
   "source": [
    "## Creating model with OLS and sklearn"
   ]
  },
  {
   "cell_type": "code",
   "execution_count": 9,
   "id": "a6d9b02e",
   "metadata": {
    "ExecuteTime": {
     "end_time": "2022-07-09T15:09:33.037957Z",
     "start_time": "2022-07-09T15:09:33.024244Z"
    }
   },
   "outputs": [],
   "source": [
    "#creating model with OLS method\n",
    "model=sm.OLS(X,Y).fit()"
   ]
  },
  {
   "cell_type": "code",
   "execution_count": 10,
   "id": "82de8723",
   "metadata": {
    "ExecuteTime": {
     "end_time": "2022-07-09T15:09:33.053308Z",
     "start_time": "2022-07-09T15:09:33.041314Z"
    }
   },
   "outputs": [],
   "source": [
    "pred_1=model.predict()"
   ]
  },
  {
   "cell_type": "code",
   "execution_count": 11,
   "id": "b795b084",
   "metadata": {
    "ExecuteTime": {
     "end_time": "2022-07-09T15:09:33.069170Z",
     "start_time": "2022-07-09T15:09:33.054864Z"
    }
   },
   "outputs": [],
   "source": [
    "#creating model with sklearn library\n",
    "model_sk=LinearRegression()"
   ]
  },
  {
   "cell_type": "code",
   "execution_count": 12,
   "id": "c085b77b",
   "metadata": {
    "ExecuteTime": {
     "end_time": "2022-07-09T15:09:33.100679Z",
     "start_time": "2022-07-09T15:09:33.071014Z"
    }
   },
   "outputs": [
    {
     "data": {
      "text/html": [
       "<style>#sk-container-id-1 {color: black;background-color: white;}#sk-container-id-1 pre{padding: 0;}#sk-container-id-1 div.sk-toggleable {background-color: white;}#sk-container-id-1 label.sk-toggleable__label {cursor: pointer;display: block;width: 100%;margin-bottom: 0;padding: 0.3em;box-sizing: border-box;text-align: center;}#sk-container-id-1 label.sk-toggleable__label-arrow:before {content: \"▸\";float: left;margin-right: 0.25em;color: #696969;}#sk-container-id-1 label.sk-toggleable__label-arrow:hover:before {color: black;}#sk-container-id-1 div.sk-estimator:hover label.sk-toggleable__label-arrow:before {color: black;}#sk-container-id-1 div.sk-toggleable__content {max-height: 0;max-width: 0;overflow: hidden;text-align: left;background-color: #f0f8ff;}#sk-container-id-1 div.sk-toggleable__content pre {margin: 0.2em;color: black;border-radius: 0.25em;background-color: #f0f8ff;}#sk-container-id-1 input.sk-toggleable__control:checked~div.sk-toggleable__content {max-height: 200px;max-width: 100%;overflow: auto;}#sk-container-id-1 input.sk-toggleable__control:checked~label.sk-toggleable__label-arrow:before {content: \"▾\";}#sk-container-id-1 div.sk-estimator input.sk-toggleable__control:checked~label.sk-toggleable__label {background-color: #d4ebff;}#sk-container-id-1 div.sk-label input.sk-toggleable__control:checked~label.sk-toggleable__label {background-color: #d4ebff;}#sk-container-id-1 input.sk-hidden--visually {border: 0;clip: rect(1px 1px 1px 1px);clip: rect(1px, 1px, 1px, 1px);height: 1px;margin: -1px;overflow: hidden;padding: 0;position: absolute;width: 1px;}#sk-container-id-1 div.sk-estimator {font-family: monospace;background-color: #f0f8ff;border: 1px dotted black;border-radius: 0.25em;box-sizing: border-box;margin-bottom: 0.5em;}#sk-container-id-1 div.sk-estimator:hover {background-color: #d4ebff;}#sk-container-id-1 div.sk-parallel-item::after {content: \"\";width: 100%;border-bottom: 1px solid gray;flex-grow: 1;}#sk-container-id-1 div.sk-label:hover label.sk-toggleable__label {background-color: #d4ebff;}#sk-container-id-1 div.sk-serial::before {content: \"\";position: absolute;border-left: 1px solid gray;box-sizing: border-box;top: 0;bottom: 0;left: 50%;z-index: 0;}#sk-container-id-1 div.sk-serial {display: flex;flex-direction: column;align-items: center;background-color: white;padding-right: 0.2em;padding-left: 0.2em;position: relative;}#sk-container-id-1 div.sk-item {position: relative;z-index: 1;}#sk-container-id-1 div.sk-parallel {display: flex;align-items: stretch;justify-content: center;background-color: white;position: relative;}#sk-container-id-1 div.sk-item::before, #sk-container-id-1 div.sk-parallel-item::before {content: \"\";position: absolute;border-left: 1px solid gray;box-sizing: border-box;top: 0;bottom: 0;left: 50%;z-index: -1;}#sk-container-id-1 div.sk-parallel-item {display: flex;flex-direction: column;z-index: 1;position: relative;background-color: white;}#sk-container-id-1 div.sk-parallel-item:first-child::after {align-self: flex-end;width: 50%;}#sk-container-id-1 div.sk-parallel-item:last-child::after {align-self: flex-start;width: 50%;}#sk-container-id-1 div.sk-parallel-item:only-child::after {width: 0;}#sk-container-id-1 div.sk-dashed-wrapped {border: 1px dashed gray;margin: 0 0.4em 0.5em 0.4em;box-sizing: border-box;padding-bottom: 0.4em;background-color: white;}#sk-container-id-1 div.sk-label label {font-family: monospace;font-weight: bold;display: inline-block;line-height: 1.2em;}#sk-container-id-1 div.sk-label-container {text-align: center;}#sk-container-id-1 div.sk-container {/* jupyter's `normalize.less` sets `[hidden] { display: none; }` but bootstrap.min.css set `[hidden] { display: none !important; }` so we also need the `!important` here to be able to override the default hidden behavior on the sphinx rendered scikit-learn.org. See: https://github.com/scikit-learn/scikit-learn/issues/21755 */display: inline-block !important;position: relative;}#sk-container-id-1 div.sk-text-repr-fallback {display: none;}</style><div id=\"sk-container-id-1\" class=\"sk-top-container\"><div class=\"sk-text-repr-fallback\"><pre>LinearRegression()</pre><b>In a Jupyter environment, please rerun this cell to show the HTML representation or trust the notebook. <br />On GitHub, the HTML representation is unable to render, please try loading this page with nbviewer.org.</b></div><div class=\"sk-container\" hidden><div class=\"sk-item\"><div class=\"sk-estimator sk-toggleable\"><input class=\"sk-toggleable__control sk-hidden--visually\" id=\"sk-estimator-id-1\" type=\"checkbox\" checked><label for=\"sk-estimator-id-1\" class=\"sk-toggleable__label sk-toggleable__label-arrow\">LinearRegression</label><div class=\"sk-toggleable__content\"><pre>LinearRegression()</pre></div></div></div></div></div>"
      ],
      "text/plain": [
       "LinearRegression()"
      ]
     },
     "execution_count": 12,
     "metadata": {},
     "output_type": "execute_result"
    }
   ],
   "source": [
    "model_sk.fit(X,Y)"
   ]
  },
  {
   "cell_type": "code",
   "execution_count": 13,
   "id": "a30e3f55",
   "metadata": {
    "ExecuteTime": {
     "end_time": "2022-07-09T15:09:33.116282Z",
     "start_time": "2022-07-09T15:09:33.103051Z"
    }
   },
   "outputs": [],
   "source": [
    "pred = model_sk.predict(X)"
   ]
  },
  {
   "cell_type": "code",
   "execution_count": 14,
   "id": "3ec51f25",
   "metadata": {
    "ExecuteTime": {
     "end_time": "2022-07-09T15:09:33.132162Z",
     "start_time": "2022-07-09T15:09:33.118172Z"
    }
   },
   "outputs": [
    {
     "data": {
      "text/plain": [
       "array([23.07293294, 13.17881356, 16.47685335, 21.42391304, 23.07293294,\n",
       "       16.47685335, 18.12587325, 11.52979366, 23.07293294, 21.42391304,\n",
       "       19.77489315, 13.17881356, 18.12587325, 11.52979366, 11.52979366,\n",
       "       13.17881356, 16.47685335, 18.12587325,  9.88077377, 18.12587325,\n",
       "       14.82783346])"
      ]
     },
     "execution_count": 14,
     "metadata": {},
     "output_type": "execute_result"
    }
   ],
   "source": [
    "pred"
   ]
  },
  {
   "cell_type": "markdown",
   "id": "e7f488c0",
   "metadata": {},
   "source": [
    "## RMSE"
   ]
  },
  {
   "cell_type": "code",
   "execution_count": 15,
   "id": "51736814",
   "metadata": {
    "ExecuteTime": {
     "end_time": "2022-07-09T15:09:33.147362Z",
     "start_time": "2022-07-09T15:09:33.134330Z"
    }
   },
   "outputs": [],
   "source": [
    "#checking mean squre error\n",
    "meansq = mean_squared_error(Y,pred)"
   ]
  },
  {
   "cell_type": "code",
   "execution_count": 16,
   "id": "eca52ede",
   "metadata": {
    "ExecuteTime": {
     "end_time": "2022-07-09T15:09:33.163011Z",
     "start_time": "2022-07-09T15:09:33.149395Z"
    }
   },
   "outputs": [],
   "source": [
    "rmse=np.sqrt(meansq)"
   ]
  },
  {
   "cell_type": "code",
   "execution_count": 17,
   "id": "526abddd",
   "metadata": {
    "ExecuteTime": {
     "end_time": "2022-07-09T15:09:33.178191Z",
     "start_time": "2022-07-09T15:09:33.163373Z"
    }
   },
   "outputs": [
    {
     "data": {
      "text/plain": [
       "(7.793311548584063, 2.7916503270617654)"
      ]
     },
     "execution_count": 17,
     "metadata": {},
     "output_type": "execute_result"
    }
   ],
   "source": [
    "meansq,rmse"
   ]
  },
  {
   "cell_type": "code",
   "execution_count": 18,
   "id": "71e2fc47",
   "metadata": {
    "ExecuteTime": {
     "end_time": "2022-07-09T15:09:33.194402Z",
     "start_time": "2022-07-09T15:09:33.180396Z"
    }
   },
   "outputs": [
    {
     "name": "stdout",
     "output_type": "stream",
     "text": [
      "0.6822714748417231\n"
     ]
    }
   ],
   "source": [
    "print(model_sk.score(X, Y)) "
   ]
  },
  {
   "cell_type": "code",
   "execution_count": 19,
   "id": "a043d028",
   "metadata": {
    "ExecuteTime": {
     "end_time": "2022-07-09T15:09:33.411536Z",
     "start_time": "2022-07-09T15:09:33.196123Z"
    }
   },
   "outputs": [
    {
     "data": {
      "text/plain": [
       "[<matplotlib.lines.Line2D at 0x22c48874220>]"
      ]
     },
     "execution_count": 19,
     "metadata": {},
     "output_type": "execute_result"
    },
    {
     "data": {
      "image/png": "[encoded data removed]",
      "text/plain": [
       "<Figure size 432x288 with 1 Axes>"
      ]
     },
     "metadata": {
      "needs_background": "light"
     },
     "output_type": "display_data"
    }
   ],
   "source": [
    "plt.scatter(dt['SortingT'],dt['DeliveryT'])\n",
    "plt.plot(dt['SortingT'],pred,color='black')"
   ]
  },
  {
   "cell_type": "markdown",
   "id": "90572070",
   "metadata": {
    "ExecuteTime": {
     "end_time": "2022-07-09T16:57:23.785828Z",
     "start_time": "2022-07-09T16:57:23.768405Z"
    }
   },
   "source": [
    "#### We can visibly see that there is some outliers which is causing the model to lose its accuracy. RMSE & MSR is also very high for the inital model"
   ]
  },
  {
   "cell_type": "markdown",
   "id": "20aa74c0",
   "metadata": {},
   "source": [
    "## Checking for outliers"
   ]
  },
  {
   "cell_type": "code",
   "execution_count": 20,
   "id": "6d23ba39",
   "metadata": {
    "ExecuteTime": {
     "end_time": "2022-07-09T15:09:33.427732Z",
     "start_time": "2022-07-09T15:09:33.414573Z"
    }
   },
   "outputs": [],
   "source": [
    "model_influence = model.get_influence()"
   ]
  },
  {
   "cell_type": "code",
   "execution_count": 21,
   "id": "f5477ff7",
   "metadata": {
    "ExecuteTime": {
     "end_time": "2022-07-09T15:09:33.443594Z",
     "start_time": "2022-07-09T15:09:33.428870Z"
    }
   },
   "outputs": [
    {
     "data": {
      "text/plain": [
       "<statsmodels.stats.outliers_influence.OLSInfluence at 0x22c488afe50>"
      ]
     },
     "execution_count": 21,
     "metadata": {},
     "output_type": "execute_result"
    }
   ],
   "source": [
    "model_influence"
   ]
  },
  {
   "cell_type": "code",
   "execution_count": 22,
   "id": "bc231d90",
   "metadata": {
    "ExecuteTime": {
     "end_time": "2022-07-09T15:09:33.459157Z",
     "start_time": "2022-07-09T15:09:33.445899Z"
    }
   },
   "outputs": [],
   "source": [
    "(c,_)=model_influence.cooks_distance"
   ]
  },
  {
   "cell_type": "code",
   "execution_count": 23,
   "id": "79e9ad8f",
   "metadata": {
    "ExecuteTime": {
     "end_time": "2022-07-09T15:09:33.660432Z",
     "start_time": "2022-07-09T15:09:33.460805Z"
    }
   },
   "outputs": [
    {
     "data": {
      "image/png": "[encoded data removed]",
      "text/plain": [
       "<Figure size 864x576 with 1 Axes>"
      ]
     },
     "metadata": {
      "needs_background": "light"
     },
     "output_type": "display_data"
    }
   ],
   "source": [
    "fig = sfig, ax = plt.subplots(figsize=(12,8))\n",
    "sm.graphics.influence_plot(model, alpha  = 0.05, ax = ax, criterion=\"cooks\");"
   ]
  },
  {
   "cell_type": "code",
   "execution_count": 24,
   "id": "52bdd43c",
   "metadata": {
    "ExecuteTime": {
     "end_time": "2022-07-09T15:09:33.863763Z",
     "start_time": "2022-07-09T15:09:33.662284Z"
    },
    "scrolled": true
   },
   "outputs": [
    {
     "data": {
      "image/png": "[encoded data removed]",
      "text/plain": [
       "<Figure size 1440x504 with 1 Axes>"
      ]
     },
     "metadata": {
      "needs_background": "light"
     },
     "output_type": "display_data"
    }
   ],
   "source": [
    "fig = plt.subplots(figsize=(20, 7))\n",
    "plt.stem(np.arange(len(X)), np.round(c, 3))\n",
    "plt.xlabel('Row index')\n",
    "plt.ylabel('Cooks Distance')\n",
    "plt.show()"
   ]
  },
  {
   "cell_type": "markdown",
   "id": "e11889b3",
   "metadata": {},
   "source": [
    "## Droping the Outliers"
   ]
  },
  {
   "cell_type": "code",
   "execution_count": 41,
   "id": "3253ec73",
   "metadata": {
    "ExecuteTime": {
     "end_time": "2022-07-09T15:10:14.285464Z",
     "start_time": "2022-07-09T15:10:14.272046Z"
    }
   },
   "outputs": [],
   "source": [
    "dt=dt.drop(dt.index[[0,7,20]])"
   ]
  },
  {
   "cell_type": "code",
   "execution_count": 64,
   "id": "af928685",
   "metadata": {
    "ExecuteTime": {
     "end_time": "2022-07-09T15:13:13.152518Z",
     "start_time": "2022-07-09T15:13:13.143727Z"
    }
   },
   "outputs": [],
   "source": [
    "(c,_)=model_influenceN.cooks_distance"
   ]
  },
  {
   "cell_type": "code",
   "execution_count": 65,
   "id": "0aa5d111",
   "metadata": {
    "ExecuteTime": {
     "end_time": "2022-07-09T15:13:14.077059Z",
     "start_time": "2022-07-09T15:13:13.929321Z"
    }
   },
   "outputs": [
    {
     "data": {
      "image/png": "[encoded data removed]",
      "text/plain": [
       "<Figure size 1440x504 with 1 Axes>"
      ]
     },
     "metadata": {
      "needs_background": "light"
     },
     "output_type": "display_data"
    }
   ],
   "source": [
    "fig = plt.subplots(figsize=(20, 7))\n",
    "plt.stem(np.arange(len(X_new)), np.round(c, 3))\n",
    "plt.xlabel('Row index')\n",
    "plt.ylabel('Cooks Distance')\n",
    "plt.show()"
   ]
  },
  {
   "cell_type": "markdown",
   "id": "c0f04e0c",
   "metadata": {},
   "source": [
    "## Creating new model after removing outliers"
   ]
  },
  {
   "cell_type": "code",
   "execution_count": 63,
   "id": "89fdb6e8",
   "metadata": {
    "ExecuteTime": {
     "end_time": "2022-07-09T15:12:55.456756Z",
     "start_time": "2022-07-09T15:12:55.448467Z"
    }
   },
   "outputs": [
    {
     "data": {
      "text/plain": [
       "(18, 1)"
      ]
     },
     "execution_count": 63,
     "metadata": {},
     "output_type": "execute_result"
    }
   ],
   "source": [
    "X_new=dt[['SortingT']]\n",
    "Y_new=dt['DeliveryT']\n",
    "X_new.shape"
   ]
  },
  {
   "cell_type": "code",
   "execution_count": 45,
   "id": "45bd9bba",
   "metadata": {
    "ExecuteTime": {
     "end_time": "2022-07-09T15:10:26.067546Z",
     "start_time": "2022-07-09T15:10:26.057965Z"
    }
   },
   "outputs": [],
   "source": [
    "#creating model with OLS method\n",
    "model_new=sm.OLS(X_new,Y_new).fit()"
   ]
  },
  {
   "cell_type": "code",
   "execution_count": 46,
   "id": "b7d84ef3",
   "metadata": {
    "ExecuteTime": {
     "end_time": "2022-07-09T15:10:26.439487Z",
     "start_time": "2022-07-09T15:10:26.428606Z"
    }
   },
   "outputs": [],
   "source": [
    "pred_new=model.predict()"
   ]
  },
  {
   "cell_type": "code",
   "execution_count": 47,
   "id": "cad33dc1",
   "metadata": {
    "ExecuteTime": {
     "end_time": "2022-07-09T15:10:26.779192Z",
     "start_time": "2022-07-09T15:10:26.766370Z"
    }
   },
   "outputs": [
    {
     "data": {
      "text/plain": [
       "array([ 7.8180071 ,  5.02586171,  7.35264954,  8.93486526, 10.79629552,\n",
       "        5.71459091,  7.073435  ,  3.5367175 ,  6.66392034,  6.98036349,\n",
       "        7.38243242,  4.00207507,  6.20973136,  4.2812896 ,  4.47860121,\n",
       "        5.53961646,  5.11893322,  6.74210041,  2.97828842,  6.63786032,\n",
       "        8.00415013])"
      ]
     },
     "execution_count": 47,
     "metadata": {},
     "output_type": "execute_result"
    }
   ],
   "source": [
    "pred_new"
   ]
  },
  {
   "cell_type": "code",
   "execution_count": 48,
   "id": "91cdbf28",
   "metadata": {
    "ExecuteTime": {
     "end_time": "2022-07-09T15:10:27.302754Z",
     "start_time": "2022-07-09T15:10:27.294183Z"
    }
   },
   "outputs": [],
   "source": [
    "#creating model with sklearn library\n",
    "model_sknew=LinearRegression()"
   ]
  },
  {
   "cell_type": "code",
   "execution_count": 49,
   "id": "beee0bfe",
   "metadata": {
    "ExecuteTime": {
     "end_time": "2022-07-09T15:10:29.137278Z",
     "start_time": "2022-07-09T15:10:29.115191Z"
    }
   },
   "outputs": [
    {
     "data": {
      "text/html": [
       "<style>#sk-container-id-3 {color: black;background-color: white;}#sk-container-id-3 pre{padding: 0;}#sk-container-id-3 div.sk-toggleable {background-color: white;}#sk-container-id-3 label.sk-toggleable__label {cursor: pointer;display: block;width: 100%;margin-bottom: 0;padding: 0.3em;box-sizing: border-box;text-align: center;}#sk-container-id-3 label.sk-toggleable__label-arrow:before {content: \"▸\";float: left;margin-right: 0.25em;color: #696969;}#sk-container-id-3 label.sk-toggleable__label-arrow:hover:before {color: black;}#sk-container-id-3 div.sk-estimator:hover label.sk-toggleable__label-arrow:before {color: black;}#sk-container-id-3 div.sk-toggleable__content {max-height: 0;max-width: 0;overflow: hidden;text-align: left;background-color: #f0f8ff;}#sk-container-id-3 div.sk-toggleable__content pre {margin: 0.2em;color: black;border-radius: 0.25em;background-color: #f0f8ff;}#sk-container-id-3 input.sk-toggleable__control:checked~div.sk-toggleable__content {max-height: 200px;max-width: 100%;overflow: auto;}#sk-container-id-3 input.sk-toggleable__control:checked~label.sk-toggleable__label-arrow:before {content: \"▾\";}#sk-container-id-3 div.sk-estimator input.sk-toggleable__control:checked~label.sk-toggleable__label {background-color: #d4ebff;}#sk-container-id-3 div.sk-label input.sk-toggleable__control:checked~label.sk-toggleable__label {background-color: #d4ebff;}#sk-container-id-3 input.sk-hidden--visually {border: 0;clip: rect(1px 1px 1px 1px);clip: rect(1px, 1px, 1px, 1px);height: 1px;margin: -1px;overflow: hidden;padding: 0;position: absolute;width: 1px;}#sk-container-id-3 div.sk-estimator {font-family: monospace;background-color: #f0f8ff;border: 1px dotted black;border-radius: 0.25em;box-sizing: border-box;margin-bottom: 0.5em;}#sk-container-id-3 div.sk-estimator:hover {background-color: #d4ebff;}#sk-container-id-3 div.sk-parallel-item::after {content: \"\";width: 100%;border-bottom: 1px solid gray;flex-grow: 1;}#sk-container-id-3 div.sk-label:hover label.sk-toggleable__label {background-color: #d4ebff;}#sk-container-id-3 div.sk-serial::before {content: \"\";position: absolute;border-left: 1px solid gray;box-sizing: border-box;top: 0;bottom: 0;left: 50%;z-index: 0;}#sk-container-id-3 div.sk-serial {display: flex;flex-direction: column;align-items: center;background-color: white;padding-right: 0.2em;padding-left: 0.2em;position: relative;}#sk-container-id-3 div.sk-item {position: relative;z-index: 1;}#sk-container-id-3 div.sk-parallel {display: flex;align-items: stretch;justify-content: center;background-color: white;position: relative;}#sk-container-id-3 div.sk-item::before, #sk-container-id-3 div.sk-parallel-item::before {content: \"\";position: absolute;border-left: 1px solid gray;box-sizing: border-box;top: 0;bottom: 0;left: 50%;z-index: -1;}#sk-container-id-3 div.sk-parallel-item {display: flex;flex-direction: column;z-index: 1;position: relative;background-color: white;}#sk-container-id-3 div.sk-parallel-item:first-child::after {align-self: flex-end;width: 50%;}#sk-container-id-3 div.sk-parallel-item:last-child::after {align-self: flex-start;width: 50%;}#sk-container-id-3 div.sk-parallel-item:only-child::after {width: 0;}#sk-container-id-3 div.sk-dashed-wrapped {border: 1px dashed gray;margin: 0 0.4em 0.5em 0.4em;box-sizing: border-box;padding-bottom: 0.4em;background-color: white;}#sk-container-id-3 div.sk-label label {font-family: monospace;font-weight: bold;display: inline-block;line-height: 1.2em;}#sk-container-id-3 div.sk-label-container {text-align: center;}#sk-container-id-3 div.sk-container {/* jupyter's `normalize.less` sets `[hidden] { display: none; }` but bootstrap.min.css set `[hidden] { display: none !important; }` so we also need the `!important` here to be able to override the default hidden behavior on the sphinx rendered scikit-learn.org. See: https://github.com/scikit-learn/scikit-learn/issues/21755 */display: inline-block !important;position: relative;}#sk-container-id-3 div.sk-text-repr-fallback {display: none;}</style><div id=\"sk-container-id-3\" class=\"sk-top-container\"><div class=\"sk-text-repr-fallback\"><pre>LinearRegression()</pre><b>In a Jupyter environment, please rerun this cell to show the HTML representation or trust the notebook. <br />On GitHub, the HTML representation is unable to render, please try loading this page with nbviewer.org.</b></div><div class=\"sk-container\" hidden><div class=\"sk-item\"><div class=\"sk-estimator sk-toggleable\"><input class=\"sk-toggleable__control sk-hidden--visually\" id=\"sk-estimator-id-3\" type=\"checkbox\" checked><label for=\"sk-estimator-id-3\" class=\"sk-toggleable__label sk-toggleable__label-arrow\">LinearRegression</label><div class=\"sk-toggleable__content\"><pre>LinearRegression()</pre></div></div></div></div></div>"
      ],
      "text/plain": [
       "LinearRegression()"
      ]
     },
     "execution_count": 49,
     "metadata": {},
     "output_type": "execute_result"
    }
   ],
   "source": [
    "model_sknew.fit(X_new,Y_new)"
   ]
  },
  {
   "cell_type": "code",
   "execution_count": 50,
   "id": "8c6ba14e",
   "metadata": {
    "ExecuteTime": {
     "end_time": "2022-07-09T15:10:29.635052Z",
     "start_time": "2022-07-09T15:10:29.616136Z"
    }
   },
   "outputs": [],
   "source": [
    "pred_N = model_sknew.predict(X_new)"
   ]
  },
  {
   "cell_type": "code",
   "execution_count": 51,
   "id": "c4938cc6",
   "metadata": {
    "ExecuteTime": {
     "end_time": "2022-07-09T15:10:31.022917Z",
     "start_time": "2022-07-09T15:10:31.013692Z"
    }
   },
   "outputs": [],
   "source": [
    "#checking mean squre error\n",
    "meansq_N = mean_squared_error(Y_new,pred_N)"
   ]
  },
  {
   "cell_type": "code",
   "execution_count": 52,
   "id": "bf0bd74f",
   "metadata": {
    "ExecuteTime": {
     "end_time": "2022-07-09T15:10:31.460317Z",
     "start_time": "2022-07-09T15:10:31.453977Z"
    }
   },
   "outputs": [],
   "source": [
    "rmse_new=np.sqrt(meansq_N)"
   ]
  },
  {
   "cell_type": "code",
   "execution_count": 53,
   "id": "3d41c97b",
   "metadata": {
    "ExecuteTime": {
     "end_time": "2022-07-09T15:10:31.832593Z",
     "start_time": "2022-07-09T15:10:31.820001Z"
    }
   },
   "outputs": [
    {
     "data": {
      "text/plain": [
       "(4.156781679779953, 2.038818697133208)"
      ]
     },
     "execution_count": 53,
     "metadata": {},
     "output_type": "execute_result"
    }
   ],
   "source": [
    "meansq_N,rmse_new"
   ]
  },
  {
   "cell_type": "code",
   "execution_count": 54,
   "id": "f9c3f46a",
   "metadata": {
    "ExecuteTime": {
     "end_time": "2022-07-09T15:10:34.041281Z",
     "start_time": "2022-07-09T15:10:34.031191Z"
    },
    "scrolled": true
   },
   "outputs": [
    {
     "name": "stdout",
     "output_type": "stream",
     "text": [
      "0.8402553414374412\n"
     ]
    }
   ],
   "source": [
    "print(model_sknew.score(X_new, Y_new))"
   ]
  },
  {
   "cell_type": "markdown",
   "id": "8be0f128",
   "metadata": {},
   "source": [
    "#### After removining the outliers the RMSE & MSE has been reduces drastically and accuracy has increased as well"
   ]
  },
  {
   "cell_type": "markdown",
   "id": "3f4ff83b",
   "metadata": {},
   "source": [
    "## Scatter plot between the data and predicted data"
   ]
  },
  {
   "cell_type": "code",
   "execution_count": 66,
   "id": "7c32259f",
   "metadata": {
    "ExecuteTime": {
     "end_time": "2022-07-09T16:47:44.363223Z",
     "start_time": "2022-07-09T16:47:44.206066Z"
    }
   },
   "outputs": [
    {
     "data": {
      "text/plain": [
       "[<matplotlib.lines.Line2D at 0x22c4d73aa30>]"
      ]
     },
     "execution_count": 66,
     "metadata": {},
     "output_type": "execute_result"
    },
    {
     "data": {
      "image/png": "[encoded data removed]",
      "text/plain": [
       "<Figure size 432x288 with 1 Axes>"
      ]
     },
     "metadata": {
      "needs_background": "light"
     },
     "output_type": "display_data"
    }
   ],
   "source": [
    "plt.scatter(dt['SortingT'],dt['DeliveryT'])\n",
    "plt.plot(dt['SortingT'],pred_N,color='black')"
   ]
  },
  {
   "cell_type": "markdown",
   "id": "1b63cf35",
   "metadata": {},
   "source": [
    "# Observation\n",
    "\n",
    "#### Through the above gragh we can visibly see that the predicted line is best fit for this model with all the transformation made.\n",
    "### The accuracy of the model is 84.02%"
   ]
  }
 ],
 "metadata": {
  "gist": {
   "data": {
    "description": "Linear Regression Assignment .ipynb",
    "public": true
   },
   "id": ""
  },
  "kernelspec": {
   "display_name": "Python 3 (ipykernel)",
   "language": "python",
   "name": "python3"
  },
  "language_info": {
   "codemirror_mode": {
    "name": "ipython",
    "version": 3
   },
   "file_extension": ".py",
   "mimetype": "text/x-python",
   "name": "python",
   "nbconvert_exporter": "python",
   "pygments_lexer": "ipython3",
   "version": "3.9.7"
  }
 },
 "nbformat": 4,
 "nbformat_minor": 5
}
